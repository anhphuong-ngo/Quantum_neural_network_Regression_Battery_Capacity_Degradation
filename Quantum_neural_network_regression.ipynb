{
 "cells": [
  {
   "cell_type": "markdown",
   "id": "642d1d1e-513f-42cb-9aa9-71a44033fd15",
   "metadata": {},
   "source": [
    "<font size=\"5\">**A Quantum Neural Network Regression for Modeling Lithium-ion Battery Capacity Degradation**</font> \n",
    "\n",
    "***\n",
    "\n",
    "Developer: Anh Phuong Ngo (Roger Ngo)\n",
    "\n",
    "This repository contains the supplementary material for the paper entitled \"A Quantum Neural Network Regression for Modeling Lithium-ion Battery Capacity Degradation\" published on IEEE Xplore: https://ieeexplore.ieee.org/document/10173794\n",
    "\n",
    "In the repsitory, the code of following sections are provided:\n",
    "1. Data collection for 12 Li-ion batteries (NASA)\n",
    "2. Quantum neural network (QNN) Regression model\n",
    "3. Implementation of QNN on Qulacs simulator\n",
    "4. Visualization of Quantum circuit\n",
    "\n",
    "News: In the 2nd version of QNN Regression, which will be uploaded with our upcoming publication in Variational Quantum Circuit, we will use a different model and platform."
   ]
  },
  {
   "cell_type": "markdown",
   "id": "02eddedc-51b8-41d5-abb0-f5dc289740c7",
   "metadata": {},
   "source": [
    "# Libraries"
   ]
  },
  {
   "cell_type": "code",
   "execution_count": 2,
   "id": "b31a5977-c48a-4c83-acbc-944869fe5529",
   "metadata": {},
   "outputs": [],
   "source": [
    "import numpy as np\n",
    "import matplotlib.pyplot as plt\n",
    "import pandas as pd\n",
    "\n",
    "from sklearn.model_selection import train_test_split\n",
    "from sklearn.preprocessing import MinMaxScaler\n",
    "%matplotlib inline\n",
    "\n",
    "from mat2json import loadMat\n",
    "from util import getBatteryCapacity, getChargingValues, getDischargingValues, getDataframe, series_to_supervised, rollingAverage"
   ]
  },
  {
   "cell_type": "code",
   "execution_count": 3,
   "id": "71b166b7-e5ab-4f20-beac-5392d2c478e8",
   "metadata": {},
   "outputs": [],
   "source": [
    "#Ambient temp 24\n",
    "B0005 = loadMat('B0005.mat')\n",
    "B0006 = loadMat('B0006.mat')\n",
    "B0007 = loadMat('B0007.mat')\n",
    "B0018 = loadMat('B0018.mat')\n",
    "\n",
    "#Ambient temp 43\n",
    "B0029 = loadMat('B0029.mat')\n",
    "B0030 = loadMat('B0030.mat')\n",
    "B0031 = loadMat('B0031.mat')\n",
    "B0032 = loadMat('B0032.mat')\n",
    "\n",
    "#Ambient temp 4\n",
    "B0041 = loadMat('B0041.mat')\n",
    "B0053 = loadMat('B0053.mat')\n",
    "B0054 = loadMat('B0054.mat')\n",
    "B0055 = loadMat('B0055.mat')\n",
    "B0056 = loadMat('B0056.mat')"
   ]
  },
  {
   "cell_type": "code",
   "execution_count": 4,
   "id": "4c07f608-8f9e-4eff-be0d-2a0091f54821",
   "metadata": {},
   "outputs": [],
   "source": [
    "B0005_capacity = getBatteryCapacity(B0005)\n",
    "B0006_capacity = getBatteryCapacity(B0006)\n",
    "B0007_capacity = getBatteryCapacity(B0007)\n",
    "B0018_capacity = getBatteryCapacity(B0018)\n",
    "\n",
    "B0029_capacity = getBatteryCapacity(B0029)\n",
    "B0030_capacity = getBatteryCapacity(B0030)\n",
    "B0031_capacity = getBatteryCapacity(B0031)\n",
    "B0032_capacity = getBatteryCapacity(B0032)\n",
    "\n",
    "B0053_capacity = getBatteryCapacity(B0053)\n",
    "B0054_capacity = getBatteryCapacity(B0054)\n",
    "B0055_capacity = getBatteryCapacity(B0055)\n",
    "B0056_capacity = getBatteryCapacity(B0056)"
   ]
  },
  {
   "cell_type": "markdown",
   "id": "7df90732-de3e-45d4-b081-5b9f88c6f867",
   "metadata": {},
   "source": [
    "# Get data from B0006, B0007, B0018"
   ]
  },
  {
   "cell_type": "code",
   "execution_count": 5,
   "id": "c0c6f23f-49b2-492d-9e35-8c337c4c7ea4",
   "metadata": {},
   "outputs": [
    {
     "data": {
      "text/html": [
       "<div>\n",
       "<style scoped>\n",
       "    .dataframe tbody tr th:only-of-type {\n",
       "        vertical-align: middle;\n",
       "    }\n",
       "\n",
       "    .dataframe tbody tr th {\n",
       "        vertical-align: top;\n",
       "    }\n",
       "\n",
       "    .dataframe thead th {\n",
       "        text-align: right;\n",
       "    }\n",
       "</style>\n",
       "<table border=\"1\" class=\"dataframe\">\n",
       "  <thead>\n",
       "    <tr style=\"text-align: right;\">\n",
       "      <th></th>\n",
       "      <th>cycle</th>\n",
       "      <th>capacity</th>\n",
       "      <th>max_discharge_temp</th>\n",
       "      <th>max_charge_temp</th>\n",
       "    </tr>\n",
       "  </thead>\n",
       "  <tbody>\n",
       "    <tr>\n",
       "      <th>0</th>\n",
       "      <td>1</td>\n",
       "      <td>2.035338</td>\n",
       "      <td>39.162987</td>\n",
       "      <td>27.355870</td>\n",
       "    </tr>\n",
       "    <tr>\n",
       "      <th>1</th>\n",
       "      <td>2</td>\n",
       "      <td>2.025140</td>\n",
       "      <td>39.246203</td>\n",
       "      <td>31.874973</td>\n",
       "    </tr>\n",
       "    <tr>\n",
       "      <th>2</th>\n",
       "      <td>3</td>\n",
       "      <td>2.013326</td>\n",
       "      <td>38.999202</td>\n",
       "      <td>32.149173</td>\n",
       "    </tr>\n",
       "    <tr>\n",
       "      <th>3</th>\n",
       "      <td>4</td>\n",
       "      <td>2.013285</td>\n",
       "      <td>38.843628</td>\n",
       "      <td>32.017074</td>\n",
       "    </tr>\n",
       "    <tr>\n",
       "      <th>4</th>\n",
       "      <td>5</td>\n",
       "      <td>2.000528</td>\n",
       "      <td>38.977989</td>\n",
       "      <td>31.921070</td>\n",
       "    </tr>\n",
       "    <tr>\n",
       "      <th>5</th>\n",
       "      <td>6</td>\n",
       "      <td>2.013899</td>\n",
       "      <td>38.839899</td>\n",
       "      <td>32.032402</td>\n",
       "    </tr>\n",
       "    <tr>\n",
       "      <th>6</th>\n",
       "      <td>7</td>\n",
       "      <td>2.013101</td>\n",
       "      <td>39.046108</td>\n",
       "      <td>32.002633</td>\n",
       "    </tr>\n",
       "    <tr>\n",
       "      <th>7</th>\n",
       "      <td>8</td>\n",
       "      <td>1.968790</td>\n",
       "      <td>38.875075</td>\n",
       "      <td>32.204361</td>\n",
       "    </tr>\n",
       "    <tr>\n",
       "      <th>8</th>\n",
       "      <td>9</td>\n",
       "      <td>1.968166</td>\n",
       "      <td>38.726054</td>\n",
       "      <td>32.089091</td>\n",
       "    </tr>\n",
       "    <tr>\n",
       "      <th>9</th>\n",
       "      <td>10</td>\n",
       "      <td>1.957231</td>\n",
       "      <td>38.986297</td>\n",
       "      <td>31.997731</td>\n",
       "    </tr>\n",
       "  </tbody>\n",
       "</table>\n",
       "</div>"
      ],
      "text/plain": [
       "   cycle  capacity  max_discharge_temp  max_charge_temp\n",
       "0      1  2.035338           39.162987        27.355870\n",
       "1      2  2.025140           39.246203        31.874973\n",
       "2      3  2.013326           38.999202        32.149173\n",
       "3      4  2.013285           38.843628        32.017074\n",
       "4      5  2.000528           38.977989        31.921070\n",
       "5      6  2.013899           38.839899        32.032402\n",
       "6      7  2.013101           39.046108        32.002633\n",
       "7      8  1.968790           38.875075        32.204361\n",
       "8      9  1.968166           38.726054        32.089091\n",
       "9     10  1.957231           38.986297        31.997731"
      ]
     },
     "execution_count": 5,
     "metadata": {},
     "output_type": "execute_result"
    }
   ],
   "source": [
    "dfB0006 = getDataframe(B0006)\n",
    "dfB0007 = getDataframe(B0007)\n",
    "dfB0018 = getDataframe(B0018)\n",
    "\n",
    "#Get 10 first sample data\n",
    "dfB0006.head(10)"
   ]
  },
  {
   "cell_type": "code",
   "execution_count": 6,
   "id": "1aa1740c-e1f4-47d6-8517-f96a73a5aadc",
   "metadata": {},
   "outputs": [
    {
     "data": {
      "text/plain": [
       "<matplotlib.collections.PathCollection at 0x2b83c221910>"
      ]
     },
     "execution_count": 6,
     "metadata": {},
     "output_type": "execute_result"
    },
    {
     "data": {
      "image/png": "[encoded data removed]",
      "text/plain": [
       "<Figure size 864x576 with 1 Axes>"
      ]
     },
     "metadata": {
      "needs_background": "light"
     },
     "output_type": "display_data"
    }
   ],
   "source": [
    "# You can choose one of the batteries: B0006, B0007, and B0018. In this case, I selected B0007\n",
    "X = dfB0007['cycle']\n",
    "Y = dfB0007['capacity']\n",
    "\n",
    "# Plotting for capacity\n",
    "fig, ax = plt.subplots(1, figsize=(12, 8))\n",
    "ax.scatter(X, Y, color='green', label='Battery')"
   ]
  },
  {
   "cell_type": "markdown",
   "id": "fb8f80e2-7867-4351-acc3-968ff0576948",
   "metadata": {},
   "source": [
    "---\n",
    "# Data preparation"
   ]
  },
  {
   "cell_type": "code",
   "execution_count": 7,
   "id": "208aa863-ba79-4ade-9384-fd007086e1f3",
   "metadata": {},
   "outputs": [],
   "source": [
    "X_train, X_test, y_train, y_test = train_test_split(X, Y, test_size=0.2, shuffle=True)"
   ]
  },
  {
   "cell_type": "code",
   "execution_count": 8,
   "id": "37d49d76-1447-4729-b86c-a028d3fbcffe",
   "metadata": {},
   "outputs": [],
   "source": [
    "lst_x, lst_y = rollingAverage(X_train, y_train)\n",
    "d = {'X_train':X_train.values,'y_train':y_train.values}\n",
    "d = pd.DataFrame(d)\n",
    "d = d[~d['X_train'].isin(lst_x)]\n",
    "X_train = d['X_train']\n",
    "y_train = d['y_train']"
   ]
  },
  {
   "cell_type": "code",
   "execution_count": 9,
   "id": "0ded9594-378c-4d75-856c-151c28bef037",
   "metadata": {},
   "outputs": [],
   "source": [
    "col1 = \"X\"\n",
    "col2 = \"Y\"\n",
    "col3 = \"lstx\"\n",
    "col4 = \"lsty\"\n",
    "data = pd.DataFrame({col1:X_train,col2:y_train})\n",
    "data.to_excel('sample_data.xlsx', sheet_name='sheet1', index=False)\n",
    "data = pd.DataFrame({col3:lst_x,col4:lst_y})\n",
    "data.to_excel('sample2_data.xlsx', sheet_name='sheet1', index=False)"
   ]
  },
  {
   "cell_type": "code",
   "execution_count": 10,
   "id": "98326212-3b78-41ba-807b-1be27d1ea374",
   "metadata": {},
   "outputs": [
    {
     "data": {
      "text/plain": [
       "<matplotlib.legend.Legend at 0x2b87494bd00>"
      ]
     },
     "execution_count": 10,
     "metadata": {},
     "output_type": "execute_result"
    },
    {
     "data": {
      "image/png": "[encoded data removed]",
      "text/plain": [
       "<Figure size 864x576 with 1 Axes>"
      ]
     },
     "metadata": {
      "needs_background": "light"
     },
     "output_type": "display_data"
    }
   ],
   "source": [
    "fig, ax = plt.subplots(1, figsize=(12, 8))\n",
    "\n",
    "ax.scatter(X_train, y_train, color='green', label='Battery capacity data')\n",
    "ax.scatter(lst_x, lst_y, color='red', label='Outliers')\n",
    "ax.legend()"
   ]
  },
  {
   "cell_type": "markdown",
   "id": "cd854101-d2a2-42dc-bd68-7df9782ded05",
   "metadata": {},
   "source": [
    "---\n",
    "# QNN Regressor"
   ]
  },
  {
   "cell_type": "markdown",
   "id": "f9d3beee-5235-475a-b214-cdf010288ad8",
   "metadata": {},
   "source": [
    "## Skitlearn and Skqulacs libraries"
   ]
  },
  {
   "cell_type": "code",
   "execution_count": 11,
   "id": "a264f2f7-2cbf-4c36-ae70-6943a5acab0d",
   "metadata": {},
   "outputs": [],
   "source": [
    "import pandas as pd\n",
    "from sklearn import datasets"
   ]
  },
  {
   "cell_type": "markdown",
   "id": "244aa374-497d-4707-900d-9af259b9a442",
   "metadata": {},
   "source": [
    "## Data pre-processing"
   ]
  },
  {
   "cell_type": "code",
   "execution_count": 12,
   "id": "6cd151b5-7126-4b57-b487-b73afb8c8549",
   "metadata": {},
   "outputs": [],
   "source": [
    "x_test = X.values.reshape(-1, 1)\n",
    "y_test = Y.values.reshape(-1, 1)\n",
    "\n",
    "X_train = X_train.values.reshape(-1, 1)\n",
    "y_train = y_train.values.reshape(-1, 1)"
   ]
  },
  {
   "cell_type": "markdown",
   "id": "b0e69143-064c-45de-a248-b2e1b309ea95",
   "metadata": {},
   "source": [
    "## Prediction"
   ]
  },
  {
   "cell_type": "code",
   "execution_count": 13,
   "id": "8ffd9b3f-935d-4e5d-9b6f-a59ca013147d",
   "metadata": {},
   "outputs": [],
   "source": [
    "from skqulacs.circuit.pre_defined import create_qcl_ansatz # Prefer to choose this circuit\n",
    "from skqulacs.circuit import create_ibm_embedding_circuit\n",
    "from skqulacs.qnn.solver import Bfgs, Adam, NelderMead\n",
    "from numpy.random import default_rng"
   ]
  },
  {
   "cell_type": "code",
   "execution_count": 14,
   "id": "92885922-5d11-4f77-b2c3-a3335ad25d8a",
   "metadata": {},
   "outputs": [
    {
     "name": "stdout",
     "output_type": "stream",
     "text": [
      "trained parameters [ 4.96272375  1.55657372  0.87987256 -0.86910358  4.91228465  6.30919374\n",
      "  3.73744978  5.38391152  3.45782339  4.85391672  4.83274296  0.71503875\n",
      "  4.90466679  0.52037331  4.05435364  1.93631892  4.8964359   4.02768434\n",
      "  1.37920314  2.94982068  0.04206019  0.55293113  4.78615381  4.53980843\n",
      "  3.98909955  2.30818217  5.79735621  6.62102457  4.6675766   4.41715754\n",
      "  4.59038183  2.24726386  0.55678095  4.53324494  3.30089856  1.94930719\n",
      "  3.05259359  5.58881689  5.8687685   2.24809352  3.59102784  2.02236503\n",
      "  3.73409722  2.12315885  2.46061475]\n",
      "loss 0.0019310608213738989\n"
     ]
    }
   ],
   "source": [
    "from skqulacs.qnn import QNNRegressor\n",
    "\n",
    "n_qubit = 5\n",
    "depth = 3\n",
    "time_step = 0.5#0.305\n",
    "solver = Bfgs() #Adam()  #NelderMead() #Bfgs()\n",
    "maxiter= 200\n",
    "#cost: Literal['mse'] = 'mse', do_x_scale: bool = True, do_y_scale: bool = True,\n",
    "circuit = create_qcl_ansatz(n_qubit, depth, time_step, 0)\n",
    "model = QNNRegressor(circuit, solver,  cost= 'mse', do_x_scale = True, do_y_scale = True, x_norm_range =0.6, y_norm_range = 0.7)\n",
    "opt_loss, theta = model.fit(X_train, y_train, maxiter)\n",
    "print(\"trained parameters\", theta)\n",
    "print(\"loss\", opt_loss)"
   ]
  },
  {
   "cell_type": "code",
   "execution_count": 15,
   "id": "e71dc592-78eb-4b13-9727-a84318623d2f",
   "metadata": {},
   "outputs": [
    {
     "data": {
      "image/png": "[encoded data removed]",
      "text/plain": [
       "<Figure size 432x288 with 1 Axes>"
      ]
     },
     "metadata": {
      "needs_background": "light"
     },
     "output_type": "display_data"
    }
   ],
   "source": [
    "plt.plot(X_train, y_train, \"o\", label=\"Train\")\n",
    "plt.legend()\n",
    "plt.show()"
   ]
  },
  {
   "cell_type": "code",
   "execution_count": 16,
   "id": "ba4cd01e-69e3-4af6-bfe8-c3aed8e72762",
   "metadata": {},
   "outputs": [
    {
     "data": {
      "image/png": "[encoded data removed]",
      "text/plain": [
       "<Figure size 432x288 with 1 Axes>"
      ]
     },
     "metadata": {
      "needs_background": "light"
     },
     "output_type": "display_data"
    }
   ],
   "source": [
    "import matplotlib.pyplot as plt\n",
    "\n",
    "#print('x_test = ',x_test.flatten())\n",
    "#print('y_test = ',y_test.flatten())\n",
    "\n",
    "#y_pred = qnn.predict(x_test)\n",
    "y_pred = model.predict(x_test)\n",
    "#\"\"\"\n",
    "plt.plot(x_test, y_test, \"o\", label=\"Test\")\n",
    "plt.plot(np.sort(np.array(x_test).flatten()), np.array(y_pred)[np.argsort(np.array(x_test).flatten())], label=\"Prediction\")\n",
    "plt.legend()\n",
    "plt.show()\n",
    "#\"\"\""
   ]
  },
  {
   "cell_type": "code",
   "execution_count": 20,
   "id": "2aa29c09-61ea-4321-9a37-f5a3ff77451f",
   "metadata": {},
   "outputs": [
    {
     "name": "stdout",
     "output_type": "stream",
     "text": [
      "qubit =  5 , depth =  3\n",
      "RMSE =  0.015415354903428947\n",
      "MAPE =  0.00687651485349611\n"
     ]
    }
   ],
   "source": [
    "# RMSE and MAPE\n",
    "rmse = 0\n",
    "\n",
    "def rmse(predictions, targets):\n",
    "    return np.sqrt(((predictions - targets) ** 2).mean())\n",
    "\n",
    "print('qubit = ',n_qubit,', depth = ', depth)\n",
    "print('RMSE = ',rmse(y_pred,y_test))\n",
    "\n",
    "from sklearn.metrics import mean_absolute_percentage_error\n",
    "print('MAPE = ',mean_absolute_percentage_error(y_test, y_pred))"
   ]
  },
  {
   "cell_type": "code",
   "execution_count": 21,
   "id": "ddf25304-eba3-4c19-8582-c9da39340d4c",
   "metadata": {},
   "outputs": [
    {
     "data": {
      "text/plain": [
       "<matplotlib.legend.Legend at 0x2b822305850>"
      ]
     },
     "execution_count": 21,
     "metadata": {},
     "output_type": "execute_result"
    },
    {
     "data": {
      "image/png": "[encoded data removed]",
      "text/plain": [
       "<Figure size 864x576 with 1 Axes>"
      ]
     },
     "metadata": {
      "needs_background": "light"
     },
     "output_type": "display_data"
    }
   ],
   "source": [
    "#print(y_pred.flatten())\n",
    "fig, ax = plt.subplots(1, figsize=(12, 8))\n",
    "\n",
    "ax.plot(X, Y, color='green', label='Battery capacity data')\n",
    "ax.plot(X, y_pred, color='red', label='Fitted model')\n",
    "#ax.set(xlabel='Time in seconds', ylabel=label, title='Discharging performance at 43°C')\n",
    "ax.legend()"
   ]
  },
  {
   "cell_type": "markdown",
   "id": "6114c92d-e342-4ad1-9d55-e1f2895785f9",
   "metadata": {},
   "source": [
    "# Circuit Visualization"
   ]
  },
  {
   "cell_type": "code",
   "execution_count": 22,
   "id": "3ae2d700-03fc-4a43-ab3a-25545d8063f9",
   "metadata": {},
   "outputs": [
    {
     "name": "stdout",
     "output_type": "stream",
     "text": [
      "\n",
      "###############################################################################\n",
      ">> 0\n",
      "   ___     ___                                                                 \n",
      "  |pRY|   |pRZ|                                                                \n",
      "--|   |---|   |-----------------------------------------------------●----------\n",
      "  |___|   |___|                                                     |          \n",
      "   ___     ___                                                      |          \n",
      "  |pRY|   |pRZ|                                                     |          \n",
      "--|   |---|   |-----------------------------------------------------|----------\n",
      "  |___|   |___|                                                     |          \n",
      "   ___     ___     ___     ___     ___     ___     ___     ___      |          \n",
      "  |pRY|   |pRZ|   |CX |   |pRX|   |pRY|   |CX |   |pRY|   |pRX|     |          \n",
      "--|   |---|   |---|   |---|   |---|   |---|   |---|   |---|   |-----|----------\n",
      "  |___|   |___|   |___|   |___|   |___|   |___|   |___|   |___|     |          \n",
      "   ___     ___      |                       |                      _|_     ___ \n",
      "  |pRY|   |pRZ|     |                       |                     |CX |   |pRX|\n",
      "--|   |---|   |-----|-----------------------|---------------------|   |---|   |\n",
      "  |___|   |___|     |                       |                     |___|   |___|\n",
      "   ___     ___      |                       |                                  \n",
      "  |pRY|   |pRZ|     |                       |                                  \n",
      "--|   |---|   |-----●-----------------------●----------------------------------\n",
      "  |___|   |___|                                                                \n",
      "\n",
      "###############################################################################\n",
      ">> 1\n",
      "                    ___     ___     ___     ___     ___     ___                \n",
      "                   |CX |   |pRX|   |pRY|   |CX |   |pRY|   |pRX|               \n",
      "-------------●-----|   |---|   |---|   |---|   |---|   |---|   |---------------\n",
      "             |     |___|   |___|   |___|   |___|   |___|   |___|               \n",
      "             |       |                       |                                 \n",
      "             |       |                       |                                 \n",
      "-------------|-------●-----------------------●---------------------------------\n",
      "             |                                                                 \n",
      "             |                                                                 \n",
      "             |                                                                 \n",
      "-------------|-----------------------------------------------------------------\n",
      "             |                                                                 \n",
      "    ___     _|_     ___     ___     ___     ___     ___     ___     ___     ___\n",
      "   |pRY|   |CX |   |pRY|   |pRX|   |CX |   |pRX|   |pRY|   |CX |   |pRY|   |pRX\n",
      "---|   |---|   |---|   |---|   |---|   |---|   |---|   |---|   |---|   |---|   \n",
      "   |___|   |___|   |___|   |___|   |___|   |___|   |___|   |___|   |___|   |___\n",
      "                                     |                       |                 \n",
      "                                     |                       |                 \n",
      "-------------------------------------●-----------------------●-----------------\n",
      "                                                                               \n",
      "\n",
      "###############################################################################\n",
      ">> 2\n",
      "     ___     ___     ___     ___     ___     ___                               \n",
      "    |CX |   |pRX|   |pRY|   |CX |   |pRY|   |pRX|                              \n",
      "----|   |---|   |---|   |---|   |---|   |---|   |------------------------------\n",
      "    |___|   |___|   |___|   |___|   |___|   |___|                              \n",
      "      |                       |      ___     ___     ___     ___     ___     __\n",
      "      |                       |     |CX |   |pRX|   |pRY|   |CX |   |pRY|   |pR\n",
      "------|-----------------------|-----|   |---|   |---|   |---|   |---|   |---|  \n",
      "      |                       |     |___|   |___|   |___|   |___|   |___|   |__\n",
      "      |                       |       |                       |                \n",
      "      |                       |       |                       |                \n",
      "------|-----------------------|-------●-----------------------●----------------\n",
      "      |                       |                                                \n",
      "      |                       |                                                \n",
      "|     |                       |                                                \n",
      "|-----|-----------------------|------------------------------------------------\n",
      "|     |                       |                                                \n",
      "      |                       |                                                \n",
      "      |                       |                                                \n",
      "------●-----------------------●------------------------------------------------\n",
      "                                                                               \n",
      "\n",
      "###############################################################################\n",
      ">> 3\n",
      "    \n",
      "    \n",
      "----\n",
      "    \n",
      "_   \n",
      "X|  \n",
      " |--\n",
      "_|  \n",
      "    \n",
      "    \n",
      "----\n",
      "    \n",
      "    \n",
      "    \n",
      "----\n",
      "    \n",
      "    \n",
      "    \n",
      "----\n",
      "    \n",
      "\n",
      "###############################################################################\n",
      "\n",
      "\\documentclass[border={-2pt 5pt 5pt -7pt}]{standalone}\n",
      "\\usepackage[braket, qm]{qcircuit}\n",
      "\\usepackage{graphicx}\n",
      "\n",
      "\\begin{document}\n",
      "    \\Qcircuit @C=1.0em @R=0.7em @!R{ \\\\\n",
      "        \\nghost{ q_{0} : } & \\lstick{ q_{0} : } & \\gate{pRY} & \\gate{pRZ} & \\qw & \\qw & \\qw & \\qw & \\qw & \\qw & \\qw & \\qw & \\qw & \\qw & \\ctrl{3} & \\qw & \\qw & \\ctrl{3} & \\qw & \\qw & \\qw & \\qw & \\qw & \\qw & \\qw & \\targ & \\gate{pRX} & \\gate{pRY} & \\targ & \\gate{pRY} & \\gate{pRX} & \\targ & \\gate{pRX} & \\gate{pRY} & \\targ & \\gate{pRY} & \\gate{pRX} & \\qw & \\qw & \\qw & \\qw & \\qw & \\qw\\\\\n",
      "        \\nghost{ q_{1} : } & \\lstick{ q_{1} : } & \\qw & \\gate{pRY} & \\gate{pRZ} & \\qw & \\qw & \\qw & \\qw & \\qw & \\qw & \\qw & \\qw & \\qw & \\qw & \\qw & \\qw & \\qw & \\qw & \\qw & \\qw & \\qw & \\qw & \\qw & \\qw & \\ctrl{-1} & \\qw & \\qw & \\ctrl{-1} & \\qw & \\qw & \\qw & \\qw & \\qw & \\qw & \\qw & \\targ & \\gate{pRX} & \\gate{pRY} & \\targ & \\gate{pRY} & \\gate{pRX} & \\qw\\\\\n",
      "        \\nghost{ q_{2} : } & \\lstick{ q_{2} : } & \\qw & \\qw & \\gate{pRY} & \\gate{pRZ} & \\qw & \\qw & \\targ & \\gate{pRX} & \\gate{pRY} & \\targ & \\gate{pRY} & \\gate{pRX} & \\qw & \\qw & \\qw & \\qw & \\qw & \\qw & \\qw & \\qw & \\qw & \\qw & \\qw & \\qw & \\qw & \\qw & \\qw & \\qw & \\qw & \\qw & \\qw & \\qw & \\qw & \\qw & \\ctrl{-1} & \\qw & \\qw & \\ctrl{-1} & \\qw & \\qw & \\qw\\\\\n",
      "        \\nghost{ q_{3} : } & \\lstick{ q_{3} : } & \\qw & \\qw & \\qw & \\gate{pRY} & \\gate{pRZ} & \\qw & \\qw & \\qw & \\qw & \\qw & \\qw & \\qw & \\targ & \\gate{pRX} & \\gate{pRY} & \\targ & \\gate{pRY} & \\gate{pRX} & \\targ & \\gate{pRX} & \\gate{pRY} & \\targ & \\gate{pRY} & \\gate{pRX} & \\qw & \\qw & \\qw & \\qw & \\qw & \\qw & \\qw & \\qw & \\qw & \\qw & \\qw & \\qw & \\qw & \\qw & \\qw & \\qw & \\qw\\\\\n",
      "        \\nghost{ q_{4} : } & \\lstick{ q_{4} : } & \\qw & \\qw & \\qw & \\qw & \\gate{pRY} & \\gate{pRZ} & \\ctrl{-2} & \\qw & \\qw & \\ctrl{-2} & \\qw & \\qw & \\qw & \\qw & \\qw & \\qw & \\qw & \\qw & \\ctrl{-1} & \\qw & \\qw & \\ctrl{-1} & \\qw & \\qw & \\qw & \\qw & \\qw & \\qw & \\qw & \\ctrl{-4} & \\qw & \\qw & \\ctrl{-4} & \\qw & \\qw & \\qw & \\qw & \\qw & \\qw & \\qw & \\qw\\\\\n",
      "    }\n",
      "\\end{document}\n"
     ]
    }
   ],
   "source": [
    "from skqulacs.circuit.pre_defined import create_qcl_ansatz\n",
    "from qulacsvis import circuit_drawer\n",
    "from skqulacs.circuit.pre_defined import create_farhi_neven_ansatz\n",
    "\n",
    "n_qubit = 5\n",
    "c_depth = 3\n",
    "ansatz = create_farhi_neven_ansatz(n_qubit, c_depth)\n",
    "circuit_drawer(ansatz._circuit)\n",
    "\n",
    "print(circuit_drawer(ansatz._circuit, \"latex_source\"))"
   ]
  },
  {
   "cell_type": "code",
   "execution_count": 23,
   "id": "65b356f0-0a34-456c-976f-a53b43183022",
   "metadata": {},
   "outputs": [
    {
     "name": "stdout",
     "output_type": "stream",
     "text": [
      "   ___     ___     ___     ___     ___     ___   \n",
      "  |pRY|   |pRZ|   |DeM|   |pRX|   |pRZ|   |pRX|  \n",
      "--|   |---|   |---|   |---|   |---|   |---|   |--\n",
      "  |___|   |___|   |   |   |___|   |___|   |___|  \n",
      "   ___     ___    |   |    ___     ___     ___   \n",
      "  |pRY|   |pRZ|   |   |   |pRX|   |pRZ|   |pRX|  \n",
      "--|   |---|   |---|   |---|   |---|   |---|   |--\n",
      "  |___|   |___|   |   |   |___|   |___|   |___|  \n",
      "   ___     ___    |   |    ___     ___     ___   \n",
      "  |pRY|   |pRZ|   |   |   |pRX|   |pRZ|   |pRX|  \n",
      "--|   |---|   |---|   |---|   |---|   |---|   |--\n",
      "  |___|   |___|   |   |   |___|   |___|   |___|  \n",
      "   ___     ___    |   |    ___     ___     ___   \n",
      "  |pRY|   |pRZ|   |   |   |pRX|   |pRZ|   |pRX|  \n",
      "--|   |---|   |---|   |---|   |---|   |---|   |--\n",
      "  |___|   |___|   |   |   |___|   |___|   |___|  \n",
      "   ___     ___    |   |    ___     ___     ___   \n",
      "  |pRY|   |pRZ|   |   |   |pRX|   |pRZ|   |pRX|  \n",
      "--|   |---|   |---|   |---|   |---|   |---|   |--\n",
      "  |___|   |___|   |___|   |___|   |___|   |___|  \n",
      "\n",
      "\\documentclass[border={-2pt 5pt 5pt -7pt}]{standalone}\n",
      "\\usepackage[braket, qm]{qcircuit}\n",
      "\\usepackage{graphicx}\n",
      "\n",
      "\\begin{document}\n",
      "    \\Qcircuit @C=1.0em @R=0.7em @!R{ \\\\\n",
      "        \\nghost{ q_{0} : } & \\lstick{ q_{0} : } & \\gate{pRY} & \\gate{pRZ} & \\qw & \\qw & \\qw & \\qw & \\multigate{4}{DeM} & \\gate{pRX} & \\gate{pRZ} & \\gate{pRX} & \\qw & \\qw & \\qw & \\qw & \\qw & \\qw & \\qw & \\qw & \\qw\\\\\n",
      "        \\nghost{ q_{1} : } & \\lstick{ q_{1} : } & \\qw & \\gate{pRY} & \\gate{pRZ} & \\qw & \\qw & \\qw & \\ghost{DeM} & \\qw & \\qw & \\gate{pRX} & \\gate{pRZ} & \\gate{pRX} & \\qw & \\qw & \\qw & \\qw & \\qw & \\qw & \\qw\\\\\n",
      "        \\nghost{ q_{2} : } & \\lstick{ q_{2} : } & \\qw & \\qw & \\gate{pRY} & \\gate{pRZ} & \\qw & \\qw & \\ghost{DeM} & \\qw & \\qw & \\qw & \\qw & \\gate{pRX} & \\gate{pRZ} & \\gate{pRX} & \\qw & \\qw & \\qw & \\qw & \\qw\\\\\n",
      "        \\nghost{ q_{3} : } & \\lstick{ q_{3} : } & \\qw & \\qw & \\qw & \\gate{pRY} & \\gate{pRZ} & \\qw & \\ghost{DeM} & \\qw & \\qw & \\qw & \\qw & \\qw & \\qw & \\gate{pRX} & \\gate{pRZ} & \\gate{pRX} & \\qw & \\qw & \\qw\\\\\n",
      "        \\nghost{ q_{4} : } & \\lstick{ q_{4} : } & \\qw & \\qw & \\qw & \\qw & \\gate{pRY} & \\gate{pRZ} & \\ghost{DeM} & \\qw & \\qw & \\qw & \\qw & \\qw & \\qw & \\qw & \\qw & \\gate{pRX} & \\gate{pRZ} & \\gate{pRX} & \\qw\\\\\n",
      "    }\n",
      "\\end{document}\n"
     ]
    }
   ],
   "source": [
    "from skqulacs.circuit.pre_defined import create_qcl_ansatz\n",
    "from qulacsvis import circuit_drawer\n",
    "\n",
    "n_qubit = 5\n",
    "c_depth = 1\n",
    "time_step = 1.\n",
    "ansatz = create_qcl_ansatz(n_qubit, c_depth, time_step)\n",
    "circuit_drawer(ansatz._circuit)\n",
    "\n",
    "print(circuit_drawer(ansatz._circuit, \"latex_source\"))"
   ]
  },
  {
   "cell_type": "code",
   "execution_count": 27,
   "id": "44db9468-f289-4813-84e5-935631e35b25",
   "metadata": {},
   "outputs": [
    {
     "name": "stdout",
     "output_type": "stream",
     "text": [
      "\n",
      "###############################################################################\n",
      ">> 0\n",
      "   ___     ___                                                                 \n",
      "  | H |   |pRZ|                                                                \n",
      "--|   |---|   |-----●---------------●------------------------------------------\n",
      "  |___|   |___|     |               |                                          \n",
      "   ___             _|_     ___     _|_     ___                                 \n",
      "  | H |           |CX |   |pRZ|   |CX |   |pRZ|                                \n",
      "--|   |-----------|   |---|   |---|   |---|   |-----●---------------●----------\n",
      "  |___|           |___|   |___|   |___|   |___|     |               |          \n",
      "   ___                                             _|_     ___     _|_     ___ \n",
      "  | H |                                           |CX |   |pRZ|   |CX |   |pRZ|\n",
      "--|   |-------------------------------------------|   |---|   |---|   |---|   |\n",
      "  |___|                                           |___|   |___|   |___|   |___|\n",
      "\n",
      "###############################################################################\n",
      ">> 1\n",
      "    ___     ___     ___     ___     ___                                        \n",
      "   |CX |   |pRZ|   |CX |   | H |   |pRZ|                                       \n",
      "---|   |---|   |---|   |---|   |---|   |-----●---------------●-----------------\n",
      "   |___|   |___|   |___|   |___|   |___|     |               |                 \n",
      "     |               |      ___             _|_     ___     _|_     ___        \n",
      "     |               |     | H |           |CX |   |pRZ|   |CX |   |pRZ|       \n",
      "-----|---------------|-----|   |-----------|   |---|   |---|   |---|   |-----●-\n",
      "     |               |     |___|           |___|   |___|   |___|   |___|     | \n",
      "     |               |      ___                                             _|_\n",
      "     |               |     | H |                                           |CX \n",
      "-----●---------------●-----|   |-------------------------------------------|   \n",
      "                           |___|                                           |___\n",
      "\n",
      "###############################################################################\n",
      ">> 2\n",
      "                             ___     ___     ___   \n",
      "                            |CX |   |pRZ|   |CX |  \n",
      "----------------------------|   |---|   |---|   |--\n",
      "                            |___|   |___|   |___|  \n",
      "                              |               |    \n",
      "                              |               |    \n",
      "--------------●---------------|---------------|----\n",
      "              |               |               |    \n",
      "     ___     _|_     ___      |               |    \n",
      "|   |pRZ|   |CX |   |pRZ|     |               |    \n",
      "|---|   |---|   |---|   |-----●---------------●----\n",
      "|   |___|   |___|   |___|                          \n",
      "\n",
      "###############################################################################\n"
     ]
    }
   ],
   "source": [
    "from skqulacs.circuit.pre_defined import create_ibm_embedding_circuit\n",
    "\n",
    "n_qubit = 3\n",
    "circuit = create_ibm_embedding_circuit(n_qubit)\n",
    "circuit_drawer(circuit._circuit)"
   ]
  },
  {
   "cell_type": "code",
   "execution_count": 26,
   "id": "3a0d615b-b67a-4146-918c-9307292a0866",
   "metadata": {},
   "outputs": [
    {
     "name": "stdout",
     "output_type": "stream",
     "text": [
      "\n",
      "\\documentclass[border={-2pt 5pt 5pt -7pt}]{standalone}\n",
      "\\usepackage[braket, qm]{qcircuit}\n",
      "\\usepackage{graphicx}\n",
      "\n",
      "\\begin{document}\n",
      "    \\Qcircuit @C=1.0em @R=0.7em @!R{ \\\\\n",
      "        \\nghost{ q_{0} : } & \\lstick{ q_{0} : } & \\gate{pRY} & \\gate{pRZ} & \\qw & \\qw & \\qw & \\qw & \\multigate{4}{DeM} & \\gate{pRX} & \\gate{pRZ} & \\gate{pRX} & \\qw & \\qw & \\qw & \\qw & \\qw & \\qw & \\qw & \\qw & \\qw\\\\\n",
      "        \\nghost{ q_{1} : } & \\lstick{ q_{1} : } & \\qw & \\gate{pRY} & \\gate{pRZ} & \\qw & \\qw & \\qw & \\ghost{DeM} & \\qw & \\qw & \\gate{pRX} & \\gate{pRZ} & \\gate{pRX} & \\qw & \\qw & \\qw & \\qw & \\qw & \\qw & \\qw\\\\\n",
      "        \\nghost{ q_{2} : } & \\lstick{ q_{2} : } & \\qw & \\qw & \\gate{pRY} & \\gate{pRZ} & \\qw & \\qw & \\ghost{DeM} & \\qw & \\qw & \\qw & \\qw & \\gate{pRX} & \\gate{pRZ} & \\gate{pRX} & \\qw & \\qw & \\qw & \\qw & \\qw\\\\\n",
      "        \\nghost{ q_{3} : } & \\lstick{ q_{3} : } & \\qw & \\qw & \\qw & \\gate{pRY} & \\gate{pRZ} & \\qw & \\ghost{DeM} & \\qw & \\qw & \\qw & \\qw & \\qw & \\qw & \\gate{pRX} & \\gate{pRZ} & \\gate{pRX} & \\qw & \\qw & \\qw\\\\\n",
      "        \\nghost{ q_{4} : } & \\lstick{ q_{4} : } & \\qw & \\qw & \\qw & \\qw & \\gate{pRY} & \\gate{pRZ} & \\ghost{DeM} & \\qw & \\qw & \\qw & \\qw & \\qw & \\qw & \\qw & \\qw & \\gate{pRX} & \\gate{pRZ} & \\gate{pRX} & \\qw\\\\\n",
      "    }\n",
      "\\end{document}\n"
     ]
    }
   ],
   "source": [
    "print(circuit_drawer(ansatz._circuit, \"latex_source\"))"
   ]
  },
  {
   "cell_type": "code",
   "execution_count": null,
   "id": "8a32647e-efce-4949-bca6-5dacd77c7ac4",
   "metadata": {},
   "outputs": [],
   "source": []
  }
 ],
 "metadata": {
  "kernelspec": {
   "display_name": "Python 3 (ipykernel)",
   "language": "python",
   "name": "python3"
  },
  "language_info": {
   "codemirror_mode": {
    "name": "ipython",
    "version": 3
   },
   "file_extension": ".py",
   "mimetype": "text/x-python",
   "name": "python",
   "nbconvert_exporter": "python",
   "pygments_lexer": "ipython3",
   "version": "3.9.12"
  }
 },
 "nbformat": 4,
 "nbformat_minor": 5
}
